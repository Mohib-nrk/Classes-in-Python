{
  "nbformat": 4,
  "nbformat_minor": 0,
  "metadata": {
    "colab": {
      "provenance": [],
      "include_colab_link": true
    },
    "kernelspec": {
      "name": "python3",
      "display_name": "Python 3"
    },
    "language_info": {
      "name": "python"
    }
  },
  "cells": [
    {
      "cell_type": "markdown",
      "metadata": {
        "id": "view-in-github",
        "colab_type": "text"
      },
      "source": [
        "<a href=\"https://colab.research.google.com/github/Mohib-nrk/Classes-in-Python/blob/main/Copy_of_Mohib_Version_Week4_Groupby_Cross_Tab.ipynb\" target=\"_parent\"><img src=\"https://colab.research.google.com/assets/colab-badge.svg\" alt=\"Open In Colab\"/></a>"
      ]
    },
    {
      "cell_type": "markdown",
      "source": [
        "# **Do you Remember the First Step**\n",
        "Saving the file using Save a copy in Drive and Changing the name of your file. From \"Student Version Week4_Groupby_Cross_Tab\" to \"Tayyab_Week4_Groupby_Cross_Tab ( Tayyab is just a sample name, you should use your name."
      ],
      "metadata": {
        "id": "TnmSTWCKbi7Q"
      }
    },
    {
      "cell_type": "code",
      "execution_count": null,
      "metadata": {
        "id": "GV-kaL0flbVr"
      },
      "outputs": [],
      "source": [
        "# Week 4 Lab Activities - Data Analysis with Python\n",
        "\n",
        "import pandas as pd\n",
        "import numpy as np\n",
        "import seaborn as sns\n",
        "import matplotlib.pyplot as plt\n",
        "from scipy.stats import zscore\n",
        "from scipy.stats.mstats import winsorize\n",
        "\n"
      ]
    },
    {
      "cell_type": "code",
      "source": [],
      "metadata": {
        "id": "UAc2QOxX-zcu"
      },
      "execution_count": null,
      "outputs": []
    },
    {
      "cell_type": "code",
      "source": [
        "# Titanic Dataset Exploration and Analysis - Lab Activities\n",
        "\n",
        "# Introduction\n",
        "\n",
        "# Dataset Overview: The Titanic dataset contains information about passengers\n",
        "# who were aboard the Titanic when it sank in 1912. The dataset includes\n",
        "# details such as passenger class, age, sex, fare, and survival status.\n",
        "\n",
        "# Objectives:\n",
        "# - Explore the data using descriptive statistics and visualizations.\n",
        "# - Identify and handle missing values.\n",
        "# - Check for and remove duplicate data.\n",
        "# - Perform groupby operations and aggregation to analyze survival patterns.\n",
        "# - Use pivot tables for multi-dimensional analysis.\n",
        "# - Handle missing values in pivot tables.\n",
        "# - Apply cross-tabulation for categorical analysis.\n",
        "# - Analyze top survivors and other factors related to survival.\n",
        "\n"
      ],
      "metadata": {
        "id": "aJBoBXkhGRjV"
      },
      "execution_count": null,
      "outputs": []
    },
    {
      "cell_type": "markdown",
      "source": [
        "# **Question: What if we do not import pandas or numpy ?**"
      ],
      "metadata": {
        "id": "UePO_vclnDwd"
      }
    },
    {
      "cell_type": "code",
      "source": [
        "#Colab comes with pre-installed commonly used libraries. However we may have to insall certain functions"
      ],
      "metadata": {
        "id": "GpW8mIhIni8v"
      },
      "execution_count": null,
      "outputs": []
    },
    {
      "cell_type": "markdown",
      "source": [
        "# **You installed package using !pip. How long it is avaiable in the Colab**"
      ],
      "metadata": {
        "id": "P8BEkOUans3d"
      }
    },
    {
      "cell_type": "markdown",
      "source": [
        "# **Activity 1: Loading and inspecting data**\n",
        "\n",
        "---\n",
        "\n"
      ],
      "metadata": {
        "id": "qFvQxCdq_I_a"
      }
    },
    {
      "cell_type": "code",
      "source": [
        "# Load the dataset\n",
        "#Method1\n",
        "file_path = (\"/content/Titanic-Dataset.csv\")\n",
        "titanic_df = pd.read_csv(file_path)\n",
        "\n",
        "\n",
        "\n",
        "# Method 2 Load the dataset\n",
        "#titanic_df = pd.read_csv(\"/content/Titanic-Dataset.csv\")\n",
        "\n",
        "# Display first few rows\n",
        "\n",
        "titanic_df.head()\n",
        "\n",
        "# Display last few rows\n",
        "\n",
        "\n",
        "# Get the dimensions of the dataset\n",
        "titanic_df.shape\n",
        "\n",
        "# Get information about data types and missing values\n",
        "titanic_df.info()\n",
        "\n",
        "\n"
      ],
      "metadata": {
        "id": "NJzSypAGyqR0",
        "colab": {
          "base_uri": "https://localhost:8080/"
        },
        "outputId": "088f2959-44fd-4989-c289-62723f7c48b5"
      },
      "execution_count": null,
      "outputs": [
        {
          "output_type": "stream",
          "name": "stdout",
          "text": [
            "<class 'pandas.core.frame.DataFrame'>\n",
            "RangeIndex: 891 entries, 0 to 890\n",
            "Data columns (total 12 columns):\n",
            " #   Column       Non-Null Count  Dtype  \n",
            "---  ------       --------------  -----  \n",
            " 0   PassengerId  891 non-null    int64  \n",
            " 1   Survived     891 non-null    int64  \n",
            " 2   Pclass       891 non-null    int64  \n",
            " 3   Name         891 non-null    object \n",
            " 4   Sex          891 non-null    object \n",
            " 5   Age          714 non-null    float64\n",
            " 6   SibSp        891 non-null    int64  \n",
            " 7   Parch        891 non-null    int64  \n",
            " 8   Ticket       891 non-null    object \n",
            " 9   Fare         891 non-null    float64\n",
            " 10  Cabin        204 non-null    object \n",
            " 11  Embarked     889 non-null    object \n",
            "dtypes: float64(2), int64(5), object(5)\n",
            "memory usage: 83.7+ KB\n"
          ]
        }
      ]
    },
    {
      "cell_type": "code",
      "source": [
        "\n",
        "\n",
        "# Get summary statistics for numerical columns\n",
        "#titanic_df.describe()\n",
        "\n",
        "# Get summary statistics for categorical columns\n",
        "titanic_df.describe(include=['object'])\n",
        "\n",
        "\n"
      ],
      "metadata": {
        "id": "oSPSUnOrAhQ-",
        "colab": {
          "base_uri": "https://localhost:8080/",
          "height": 175
        },
        "outputId": "fcf1cd62-f2b8-40d8-d360-65fb9638c92d"
      },
      "execution_count": null,
      "outputs": [
        {
          "output_type": "execute_result",
          "data": {
            "text/plain": [
              "                           Name   Sex  Ticket    Cabin Embarked\n",
              "count                       891   891     891      204      889\n",
              "unique                      891     2     681      147        3\n",
              "top     Braund, Mr. Owen Harris  male  347082  B96 B98        S\n",
              "freq                          1   577       7        4      644"
            ],
            "text/html": [
              "\n",
              "  <div id=\"df-0b390674-ff31-4480-8fd4-383e6b2a8722\" class=\"colab-df-container\">\n",
              "    <div>\n",
              "<style scoped>\n",
              "    .dataframe tbody tr th:only-of-type {\n",
              "        vertical-align: middle;\n",
              "    }\n",
              "\n",
              "    .dataframe tbody tr th {\n",
              "        vertical-align: top;\n",
              "    }\n",
              "\n",
              "    .dataframe thead th {\n",
              "        text-align: right;\n",
              "    }\n",
              "</style>\n",
              "<table border=\"1\" class=\"dataframe\">\n",
              "  <thead>\n",
              "    <tr style=\"text-align: right;\">\n",
              "      <th></th>\n",
              "      <th>Name</th>\n",
              "      <th>Sex</th>\n",
              "      <th>Ticket</th>\n",
              "      <th>Cabin</th>\n",
              "      <th>Embarked</th>\n",
              "    </tr>\n",
              "  </thead>\n",
              "  <tbody>\n",
              "    <tr>\n",
              "      <th>count</th>\n",
              "      <td>891</td>\n",
              "      <td>891</td>\n",
              "      <td>891</td>\n",
              "      <td>204</td>\n",
              "      <td>889</td>\n",
              "    </tr>\n",
              "    <tr>\n",
              "      <th>unique</th>\n",
              "      <td>891</td>\n",
              "      <td>2</td>\n",
              "      <td>681</td>\n",
              "      <td>147</td>\n",
              "      <td>3</td>\n",
              "    </tr>\n",
              "    <tr>\n",
              "      <th>top</th>\n",
              "      <td>Braund, Mr. Owen Harris</td>\n",
              "      <td>male</td>\n",
              "      <td>347082</td>\n",
              "      <td>B96 B98</td>\n",
              "      <td>S</td>\n",
              "    </tr>\n",
              "    <tr>\n",
              "      <th>freq</th>\n",
              "      <td>1</td>\n",
              "      <td>577</td>\n",
              "      <td>7</td>\n",
              "      <td>4</td>\n",
              "      <td>644</td>\n",
              "    </tr>\n",
              "  </tbody>\n",
              "</table>\n",
              "</div>\n",
              "    <div class=\"colab-df-buttons\">\n",
              "\n",
              "  <div class=\"colab-df-container\">\n",
              "    <button class=\"colab-df-convert\" onclick=\"convertToInteractive('df-0b390674-ff31-4480-8fd4-383e6b2a8722')\"\n",
              "            title=\"Convert this dataframe to an interactive table.\"\n",
              "            style=\"display:none;\">\n",
              "\n",
              "  <svg xmlns=\"http://www.w3.org/2000/svg\" height=\"24px\" viewBox=\"0 -960 960 960\">\n",
              "    <path d=\"M120-120v-720h720v720H120Zm60-500h600v-160H180v160Zm220 220h160v-160H400v160Zm0 220h160v-160H400v160ZM180-400h160v-160H180v160Zm440 0h160v-160H620v160ZM180-180h160v-160H180v160Zm440 0h160v-160H620v160Z\"/>\n",
              "  </svg>\n",
              "    </button>\n",
              "\n",
              "  <style>\n",
              "    .colab-df-container {\n",
              "      display:flex;\n",
              "      gap: 12px;\n",
              "    }\n",
              "\n",
              "    .colab-df-convert {\n",
              "      background-color: #E8F0FE;\n",
              "      border: none;\n",
              "      border-radius: 50%;\n",
              "      cursor: pointer;\n",
              "      display: none;\n",
              "      fill: #1967D2;\n",
              "      height: 32px;\n",
              "      padding: 0 0 0 0;\n",
              "      width: 32px;\n",
              "    }\n",
              "\n",
              "    .colab-df-convert:hover {\n",
              "      background-color: #E2EBFA;\n",
              "      box-shadow: 0px 1px 2px rgba(60, 64, 67, 0.3), 0px 1px 3px 1px rgba(60, 64, 67, 0.15);\n",
              "      fill: #174EA6;\n",
              "    }\n",
              "\n",
              "    .colab-df-buttons div {\n",
              "      margin-bottom: 4px;\n",
              "    }\n",
              "\n",
              "    [theme=dark] .colab-df-convert {\n",
              "      background-color: #3B4455;\n",
              "      fill: #D2E3FC;\n",
              "    }\n",
              "\n",
              "    [theme=dark] .colab-df-convert:hover {\n",
              "      background-color: #434B5C;\n",
              "      box-shadow: 0px 1px 3px 1px rgba(0, 0, 0, 0.15);\n",
              "      filter: drop-shadow(0px 1px 2px rgba(0, 0, 0, 0.3));\n",
              "      fill: #FFFFFF;\n",
              "    }\n",
              "  </style>\n",
              "\n",
              "    <script>\n",
              "      const buttonEl =\n",
              "        document.querySelector('#df-0b390674-ff31-4480-8fd4-383e6b2a8722 button.colab-df-convert');\n",
              "      buttonEl.style.display =\n",
              "        google.colab.kernel.accessAllowed ? 'block' : 'none';\n",
              "\n",
              "      async function convertToInteractive(key) {\n",
              "        const element = document.querySelector('#df-0b390674-ff31-4480-8fd4-383e6b2a8722');\n",
              "        const dataTable =\n",
              "          await google.colab.kernel.invokeFunction('convertToInteractive',\n",
              "                                                    [key], {});\n",
              "        if (!dataTable) return;\n",
              "\n",
              "        const docLinkHtml = 'Like what you see? Visit the ' +\n",
              "          '<a target=\"_blank\" href=https://colab.research.google.com/notebooks/data_table.ipynb>data table notebook</a>'\n",
              "          + ' to learn more about interactive tables.';\n",
              "        element.innerHTML = '';\n",
              "        dataTable['output_type'] = 'display_data';\n",
              "        await google.colab.output.renderOutput(dataTable, element);\n",
              "        const docLink = document.createElement('div');\n",
              "        docLink.innerHTML = docLinkHtml;\n",
              "        element.appendChild(docLink);\n",
              "      }\n",
              "    </script>\n",
              "  </div>\n",
              "\n",
              "\n",
              "<div id=\"df-fd900806-9b64-467f-a0af-584dd4a7afca\">\n",
              "  <button class=\"colab-df-quickchart\" onclick=\"quickchart('df-fd900806-9b64-467f-a0af-584dd4a7afca')\"\n",
              "            title=\"Suggest charts\"\n",
              "            style=\"display:none;\">\n",
              "\n",
              "<svg xmlns=\"http://www.w3.org/2000/svg\" height=\"24px\"viewBox=\"0 0 24 24\"\n",
              "     width=\"24px\">\n",
              "    <g>\n",
              "        <path d=\"M19 3H5c-1.1 0-2 .9-2 2v14c0 1.1.9 2 2 2h14c1.1 0 2-.9 2-2V5c0-1.1-.9-2-2-2zM9 17H7v-7h2v7zm4 0h-2V7h2v10zm4 0h-2v-4h2v4z\"/>\n",
              "    </g>\n",
              "</svg>\n",
              "  </button>\n",
              "\n",
              "<style>\n",
              "  .colab-df-quickchart {\n",
              "      --bg-color: #E8F0FE;\n",
              "      --fill-color: #1967D2;\n",
              "      --hover-bg-color: #E2EBFA;\n",
              "      --hover-fill-color: #174EA6;\n",
              "      --disabled-fill-color: #AAA;\n",
              "      --disabled-bg-color: #DDD;\n",
              "  }\n",
              "\n",
              "  [theme=dark] .colab-df-quickchart {\n",
              "      --bg-color: #3B4455;\n",
              "      --fill-color: #D2E3FC;\n",
              "      --hover-bg-color: #434B5C;\n",
              "      --hover-fill-color: #FFFFFF;\n",
              "      --disabled-bg-color: #3B4455;\n",
              "      --disabled-fill-color: #666;\n",
              "  }\n",
              "\n",
              "  .colab-df-quickchart {\n",
              "    background-color: var(--bg-color);\n",
              "    border: none;\n",
              "    border-radius: 50%;\n",
              "    cursor: pointer;\n",
              "    display: none;\n",
              "    fill: var(--fill-color);\n",
              "    height: 32px;\n",
              "    padding: 0;\n",
              "    width: 32px;\n",
              "  }\n",
              "\n",
              "  .colab-df-quickchart:hover {\n",
              "    background-color: var(--hover-bg-color);\n",
              "    box-shadow: 0 1px 2px rgba(60, 64, 67, 0.3), 0 1px 3px 1px rgba(60, 64, 67, 0.15);\n",
              "    fill: var(--button-hover-fill-color);\n",
              "  }\n",
              "\n",
              "  .colab-df-quickchart-complete:disabled,\n",
              "  .colab-df-quickchart-complete:disabled:hover {\n",
              "    background-color: var(--disabled-bg-color);\n",
              "    fill: var(--disabled-fill-color);\n",
              "    box-shadow: none;\n",
              "  }\n",
              "\n",
              "  .colab-df-spinner {\n",
              "    border: 2px solid var(--fill-color);\n",
              "    border-color: transparent;\n",
              "    border-bottom-color: var(--fill-color);\n",
              "    animation:\n",
              "      spin 1s steps(1) infinite;\n",
              "  }\n",
              "\n",
              "  @keyframes spin {\n",
              "    0% {\n",
              "      border-color: transparent;\n",
              "      border-bottom-color: var(--fill-color);\n",
              "      border-left-color: var(--fill-color);\n",
              "    }\n",
              "    20% {\n",
              "      border-color: transparent;\n",
              "      border-left-color: var(--fill-color);\n",
              "      border-top-color: var(--fill-color);\n",
              "    }\n",
              "    30% {\n",
              "      border-color: transparent;\n",
              "      border-left-color: var(--fill-color);\n",
              "      border-top-color: var(--fill-color);\n",
              "      border-right-color: var(--fill-color);\n",
              "    }\n",
              "    40% {\n",
              "      border-color: transparent;\n",
              "      border-right-color: var(--fill-color);\n",
              "      border-top-color: var(--fill-color);\n",
              "    }\n",
              "    60% {\n",
              "      border-color: transparent;\n",
              "      border-right-color: var(--fill-color);\n",
              "    }\n",
              "    80% {\n",
              "      border-color: transparent;\n",
              "      border-right-color: var(--fill-color);\n",
              "      border-bottom-color: var(--fill-color);\n",
              "    }\n",
              "    90% {\n",
              "      border-color: transparent;\n",
              "      border-bottom-color: var(--fill-color);\n",
              "    }\n",
              "  }\n",
              "</style>\n",
              "\n",
              "  <script>\n",
              "    async function quickchart(key) {\n",
              "      const quickchartButtonEl =\n",
              "        document.querySelector('#' + key + ' button');\n",
              "      quickchartButtonEl.disabled = true;  // To prevent multiple clicks.\n",
              "      quickchartButtonEl.classList.add('colab-df-spinner');\n",
              "      try {\n",
              "        const charts = await google.colab.kernel.invokeFunction(\n",
              "            'suggestCharts', [key], {});\n",
              "      } catch (error) {\n",
              "        console.error('Error during call to suggestCharts:', error);\n",
              "      }\n",
              "      quickchartButtonEl.classList.remove('colab-df-spinner');\n",
              "      quickchartButtonEl.classList.add('colab-df-quickchart-complete');\n",
              "    }\n",
              "    (() => {\n",
              "      let quickchartButtonEl =\n",
              "        document.querySelector('#df-fd900806-9b64-467f-a0af-584dd4a7afca button');\n",
              "      quickchartButtonEl.style.display =\n",
              "        google.colab.kernel.accessAllowed ? 'block' : 'none';\n",
              "    })();\n",
              "  </script>\n",
              "</div>\n",
              "\n",
              "    </div>\n",
              "  </div>\n"
            ],
            "application/vnd.google.colaboratory.intrinsic+json": {
              "type": "dataframe",
              "summary": "{\n  \"name\": \"titanic_df\",\n  \"rows\": 4,\n  \"fields\": [\n    {\n      \"column\": \"Name\",\n      \"properties\": {\n        \"dtype\": \"string\",\n        \"num_unique_values\": 3,\n        \"samples\": [\n          \"891\",\n          \"Braund, Mr. Owen Harris\",\n          \"1\"\n        ],\n        \"semantic_type\": \"\",\n        \"description\": \"\"\n      }\n    },\n    {\n      \"column\": \"Sex\",\n      \"properties\": {\n        \"dtype\": \"string\",\n        \"num_unique_values\": 4,\n        \"samples\": [\n          2,\n          \"577\",\n          \"891\"\n        ],\n        \"semantic_type\": \"\",\n        \"description\": \"\"\n      }\n    },\n    {\n      \"column\": \"Ticket\",\n      \"properties\": {\n        \"dtype\": \"string\",\n        \"num_unique_values\": 4,\n        \"samples\": [\n          681,\n          \"7\",\n          \"891\"\n        ],\n        \"semantic_type\": \"\",\n        \"description\": \"\"\n      }\n    },\n    {\n      \"column\": \"Cabin\",\n      \"properties\": {\n        \"dtype\": \"string\",\n        \"num_unique_values\": 4,\n        \"samples\": [\n          147,\n          \"4\",\n          \"204\"\n        ],\n        \"semantic_type\": \"\",\n        \"description\": \"\"\n      }\n    },\n    {\n      \"column\": \"Embarked\",\n      \"properties\": {\n        \"dtype\": \"string\",\n        \"num_unique_values\": 4,\n        \"samples\": [\n          3,\n          \"644\",\n          \"889\"\n        ],\n        \"semantic_type\": \"\",\n        \"description\": \"\"\n      }\n    }\n  ]\n}"
            }
          },
          "metadata": {},
          "execution_count": 7
        }
      ]
    },
    {
      "cell_type": "markdown",
      "source": [
        "**Key Takeaways**\n",
        "Many passengers shared tickets and cabins, indicating group travel.\n",
        "Most passengers embarked from Southampton (S).\n",
        "There are a lot of missing values in the Cabin column (only 204 non-null values).\n",
        "Most passengers were male (577 out of 891)."
      ],
      "metadata": {
        "id": "XNU1zcZBHFkl"
      }
    },
    {
      "cell_type": "markdown",
      "source": [
        "#  Data set description\n",
        "  PassengerId   A unique identifier assigned to each passenger.\n",
        "  Survived Indicates whether the passenger survived (1) or not (0).\n",
        "  Pclass  The passenger's class (1 = First Class, 2 = Second Class, 3 = Third Class).\n",
        "  Name   The full name of the passenger.\n",
        "  Sex  The gender of the passenger (male or female).\n",
        "  Age   The age of the passenger. Some values are missing .\n",
        "  SibSp   The number of siblings and spouses the passenger had aboard the Titanic.\n",
        "  Parch   The number of parents and children the passenger had aboard the Titanic.\n",
        "  Ticket  The ticket number assigned to the passenger.\n",
        "  Fare   The fare amount paid by the passenger.\n",
        "  Cabin  The cabin number assigned to the passenger.\n",
        "  Embarked  The port where the passenger boarded the Titanic (C = Cherbourg, Q = Queenstown, S = Southampton)."
      ],
      "metadata": {
        "id": "VC0Nr_9zD35_"
      }
    },
    {
      "cell_type": "markdown",
      "source": [
        "# **Activity 2: Identifying and Handling Missing Values**\n",
        "\n",
        "---\n",
        "\n"
      ],
      "metadata": {
        "id": "bsc8ThGjEdsN"
      }
    },
    {
      "cell_type": "code",
      "source": [
        "# Activity 2: Identifying and Handling Missing Values\n",
        "\n",
        "# Count missing values per column\n",
        "titanic_df.isnull().sum()\n"
      ],
      "metadata": {
        "id": "H6W6L7dYFQh2",
        "colab": {
          "base_uri": "https://localhost:8080/",
          "height": 460
        },
        "outputId": "a2532253-8f09-4d8e-9e85-8fe565ec04dc"
      },
      "execution_count": null,
      "outputs": [
        {
          "output_type": "execute_result",
          "data": {
            "text/plain": [
              "PassengerId      0\n",
              "Survived         0\n",
              "Pclass           0\n",
              "Name             0\n",
              "Sex              0\n",
              "Age            177\n",
              "SibSp            0\n",
              "Parch            0\n",
              "Ticket           0\n",
              "Fare             0\n",
              "Cabin          687\n",
              "Embarked         2\n",
              "dtype: int64"
            ],
            "text/html": [
              "<div>\n",
              "<style scoped>\n",
              "    .dataframe tbody tr th:only-of-type {\n",
              "        vertical-align: middle;\n",
              "    }\n",
              "\n",
              "    .dataframe tbody tr th {\n",
              "        vertical-align: top;\n",
              "    }\n",
              "\n",
              "    .dataframe thead th {\n",
              "        text-align: right;\n",
              "    }\n",
              "</style>\n",
              "<table border=\"1\" class=\"dataframe\">\n",
              "  <thead>\n",
              "    <tr style=\"text-align: right;\">\n",
              "      <th></th>\n",
              "      <th>0</th>\n",
              "    </tr>\n",
              "  </thead>\n",
              "  <tbody>\n",
              "    <tr>\n",
              "      <th>PassengerId</th>\n",
              "      <td>0</td>\n",
              "    </tr>\n",
              "    <tr>\n",
              "      <th>Survived</th>\n",
              "      <td>0</td>\n",
              "    </tr>\n",
              "    <tr>\n",
              "      <th>Pclass</th>\n",
              "      <td>0</td>\n",
              "    </tr>\n",
              "    <tr>\n",
              "      <th>Name</th>\n",
              "      <td>0</td>\n",
              "    </tr>\n",
              "    <tr>\n",
              "      <th>Sex</th>\n",
              "      <td>0</td>\n",
              "    </tr>\n",
              "    <tr>\n",
              "      <th>Age</th>\n",
              "      <td>177</td>\n",
              "    </tr>\n",
              "    <tr>\n",
              "      <th>SibSp</th>\n",
              "      <td>0</td>\n",
              "    </tr>\n",
              "    <tr>\n",
              "      <th>Parch</th>\n",
              "      <td>0</td>\n",
              "    </tr>\n",
              "    <tr>\n",
              "      <th>Ticket</th>\n",
              "      <td>0</td>\n",
              "    </tr>\n",
              "    <tr>\n",
              "      <th>Fare</th>\n",
              "      <td>0</td>\n",
              "    </tr>\n",
              "    <tr>\n",
              "      <th>Cabin</th>\n",
              "      <td>687</td>\n",
              "    </tr>\n",
              "    <tr>\n",
              "      <th>Embarked</th>\n",
              "      <td>2</td>\n",
              "    </tr>\n",
              "  </tbody>\n",
              "</table>\n",
              "</div><br><label><b>dtype:</b> int64</label>"
            ]
          },
          "metadata": {},
          "execution_count": 8
        }
      ]
    },
    {
      "cell_type": "code",
      "source": [
        "# Visualize missing data\n",
        "import missingno as msno\n",
        "msno.matrix(titanic_df)\n",
        "plt.show()\n"
      ],
      "metadata": {
        "id": "fZjUWGSXN4QU",
        "colab": {
          "base_uri": "https://localhost:8080/",
          "height": 521
        },
        "outputId": "939358ee-501f-41d7-d872-e64778adedae"
      },
      "execution_count": null,
      "outputs": [
        {
          "output_type": "display_data",
          "data": {
            "text/plain": [
              "<Figure size 2500x1000 with 2 Axes>"
            ],
            "image/png": "[encoded data removed]"
          },
          "metadata": {}
        }
      ]
    },
    {
      "cell_type": "code",
      "source": [
        "# Impute missing values for 'Age' with the median\n",
        "median_age = titanic_df['Age'].median()\n",
        "titanic_df['Age'].fillna(median_age, inplace=True)\n",
        "\n",
        "#The distribution of Age in the Titanic dataset is not perfectly normal;\n",
        "#it likely has a right skew due to outliers (e.g., very elderly passengers).\n",
        "#The mean is sensitive to outliers, meaning a few extremely high or low ages could pull the mean up or down,\n",
        "# making it less representative of the majority of passengers.\n",
        "#The median, being the middle value, is not affected by extreme values,\n",
        "# making it a better representation of central tendency in skewed data\n",
        "\n"
      ],
      "metadata": {
        "id": "01H6Y00tHYbn",
        "colab": {
          "base_uri": "https://localhost:8080/"
        },
        "outputId": "82065a89-6d1a-4dd4-dbb7-b7f730646fc4"
      },
      "execution_count": null,
      "outputs": [
        {
          "output_type": "stream",
          "name": "stderr",
          "text": [
            "<ipython-input-11-873bc62c70da>:3: FutureWarning: A value is trying to be set on a copy of a DataFrame or Series through chained assignment using an inplace method.\n",
            "The behavior will change in pandas 3.0. This inplace method will never work because the intermediate object on which we are setting values always behaves as a copy.\n",
            "\n",
            "For example, when doing 'df[col].method(value, inplace=True)', try using 'df.method({col: value}, inplace=True)' or df[col] = df[col].method(value) instead, to perform the operation inplace on the original object.\n",
            "\n",
            "\n",
            "  titanic_df['Age'].fillna(median_age, inplace=True)\n"
          ]
        }
      ]
    },
    {
      "cell_type": "code",
      "source": [
        "# Drop the 'Cabin' column due to many missing values\n",
        "titanic_df.drop('Cabin', axis=1, inplace=True)\n",
        "\n",
        "# Recheck for missing values\n",
        "titanic_df.isnull().sum()\n",
        "\n",
        "\n"
      ],
      "metadata": {
        "id": "zNAq5qmHIKKs",
        "colab": {
          "base_uri": "https://localhost:8080/",
          "height": 429
        },
        "outputId": "05ee75b8-f967-4076-e3cf-7a7b50818649"
      },
      "execution_count": null,
      "outputs": [
        {
          "output_type": "execute_result",
          "data": {
            "text/plain": [
              "PassengerId    0\n",
              "Survived       0\n",
              "Pclass         0\n",
              "Name           0\n",
              "Sex            0\n",
              "Age            0\n",
              "SibSp          0\n",
              "Parch          0\n",
              "Ticket         0\n",
              "Fare           0\n",
              "Embarked       2\n",
              "dtype: int64"
            ],
            "text/html": [
              "<div>\n",
              "<style scoped>\n",
              "    .dataframe tbody tr th:only-of-type {\n",
              "        vertical-align: middle;\n",
              "    }\n",
              "\n",
              "    .dataframe tbody tr th {\n",
              "        vertical-align: top;\n",
              "    }\n",
              "\n",
              "    .dataframe thead th {\n",
              "        text-align: right;\n",
              "    }\n",
              "</style>\n",
              "<table border=\"1\" class=\"dataframe\">\n",
              "  <thead>\n",
              "    <tr style=\"text-align: right;\">\n",
              "      <th></th>\n",
              "      <th>0</th>\n",
              "    </tr>\n",
              "  </thead>\n",
              "  <tbody>\n",
              "    <tr>\n",
              "      <th>PassengerId</th>\n",
              "      <td>0</td>\n",
              "    </tr>\n",
              "    <tr>\n",
              "      <th>Survived</th>\n",
              "      <td>0</td>\n",
              "    </tr>\n",
              "    <tr>\n",
              "      <th>Pclass</th>\n",
              "      <td>0</td>\n",
              "    </tr>\n",
              "    <tr>\n",
              "      <th>Name</th>\n",
              "      <td>0</td>\n",
              "    </tr>\n",
              "    <tr>\n",
              "      <th>Sex</th>\n",
              "      <td>0</td>\n",
              "    </tr>\n",
              "    <tr>\n",
              "      <th>Age</th>\n",
              "      <td>0</td>\n",
              "    </tr>\n",
              "    <tr>\n",
              "      <th>SibSp</th>\n",
              "      <td>0</td>\n",
              "    </tr>\n",
              "    <tr>\n",
              "      <th>Parch</th>\n",
              "      <td>0</td>\n",
              "    </tr>\n",
              "    <tr>\n",
              "      <th>Ticket</th>\n",
              "      <td>0</td>\n",
              "    </tr>\n",
              "    <tr>\n",
              "      <th>Fare</th>\n",
              "      <td>0</td>\n",
              "    </tr>\n",
              "    <tr>\n",
              "      <th>Embarked</th>\n",
              "      <td>2</td>\n",
              "    </tr>\n",
              "  </tbody>\n",
              "</table>\n",
              "</div><br><label><b>dtype:</b> int64</label>"
            ]
          },
          "metadata": {},
          "execution_count": 12
        }
      ]
    },
    {
      "cell_type": "markdown",
      "source": [
        "**Why are we dropping column instead of filling it with mean or mode?**"
      ],
      "metadata": {
        "id": "BhbUEGsjIi67"
      }
    },
    {
      "cell_type": "code",
      "source": [
        "#1. Too Many Missing Values (~77%)\n",
        "#Since most of the values are missing, filling them with a single value (like \"Unknown\")\n",
        "# would not add much useful information to the dataset.\n",
        "#Imputing missing values with a median, mode, or predictive model would introduce\n",
        "# too much guesswork and potential bias.\n",
        "#2. Limited Predictive Value for Survival Analysis\n",
        "# While first-class passengers were more likely to have recorded cabins,\n",
        "#the actual cabin number may not strongly influence survival rates.\n",
        "#The Pclass column (Passenger Class) already provides a similar distinction (First Class, Second Class, Third Class).\n",
        "#3. High Cardinality and Complexity\n",
        "#The Cabin column contains a mix of numbers and letters, making it categorical and high-cardinality (many unique values).\n",
        "#Some passengers share cabins, but this information is not consistently recorded.\n",
        "#4. Data Cleaning Simplicity\n",
        "#Removing the Cabin column simplifies data preprocessing and improves model performance\n",
        "#by avoiding unnecessary complexity"
      ],
      "metadata": {
        "id": "sI7rjLBMIpa-"
      },
      "execution_count": null,
      "outputs": []
    },
    {
      "cell_type": "markdown",
      "source": [
        "# **Activity 3: Checking and Fixing Duplicates**\n",
        "\n",
        "---\n",
        "\n"
      ],
      "metadata": {
        "id": "h3oh0gY8JQmy"
      }
    },
    {
      "cell_type": "code",
      "source": [
        "# Activity 3: Checking and Fixing Duplicates\n",
        "\n",
        "titanic_df.shape  #check the shape before removing"
      ],
      "metadata": {
        "id": "Ceddq7QyXsul",
        "colab": {
          "base_uri": "https://localhost:8080/"
        },
        "outputId": "e17816f6-4780-45a7-8489-acf7ff723107"
      },
      "execution_count": null,
      "outputs": [
        {
          "output_type": "execute_result",
          "data": {
            "text/plain": [
              "(891, 11)"
            ]
          },
          "metadata": {},
          "execution_count": 13
        }
      ]
    },
    {
      "cell_type": "code",
      "source": [
        "#Checking and Fixing Duplicates\n",
        "# Count duplicate rows\n",
        "titanic_df.duplicated().sum()\n",
        "\n"
      ],
      "metadata": {
        "id": "-Um-CWoNIQPU",
        "colab": {
          "base_uri": "https://localhost:8080/"
        },
        "outputId": "095e7d84-eaea-465f-c8b9-0b1536ccadbd"
      },
      "execution_count": null,
      "outputs": [
        {
          "output_type": "execute_result",
          "data": {
            "text/plain": [
              "0"
            ]
          },
          "metadata": {},
          "execution_count": 14
        }
      ]
    },
    {
      "cell_type": "code",
      "source": [
        "# Remove duplicate rows (if any)\n",
        "titanic_df.drop_duplicates(inplace=True)\n",
        "titanic_df.shape  # Check the shape after removal\n",
        "\n",
        "\n"
      ],
      "metadata": {
        "id": "6iYR-_RiJgqh"
      },
      "execution_count": null,
      "outputs": []
    },
    {
      "cell_type": "markdown",
      "source": [
        "# **Activity 4: GroupBy and Aggregation**\n",
        "\n",
        "---\n",
        "\n"
      ],
      "metadata": {
        "id": "yKCqn-nlJ4qR"
      }
    },
    {
      "cell_type": "code",
      "source": [
        "# Activity 4: GroupBy and Aggregation\n",
        "\n",
        "# Survival rate by gender\n",
        "survival_by_gender = titanic_df.groupby('Sex')['Survived'].mean()\n",
        "print(survival_by_gender)\n",
        "\n",
        "# Average age by passenger class\n",
        "avg_age_by_class = titanic_df.groupby('Pclass')['Age'].mean()\n",
        "print(avg_age_by_class)"
      ],
      "metadata": {
        "id": "i2a54DP1JlNU",
        "colab": {
          "base_uri": "https://localhost:8080/"
        },
        "outputId": "973b2029-663e-4682-fb2f-e15598ee784a"
      },
      "execution_count": null,
      "outputs": [
        {
          "output_type": "stream",
          "name": "stdout",
          "text": [
            "Sex\n",
            "female    0.742038\n",
            "male      0.188908\n",
            "Name: Survived, dtype: float64\n",
            "Pclass\n",
            "1    36.812130\n",
            "2    29.765380\n",
            "3    25.932627\n",
            "Name: Age, dtype: float64\n"
          ]
        }
      ]
    },
    {
      "cell_type": "markdown",
      "source": [
        "**How do you interpret above output**"
      ],
      "metadata": {
        "id": "c-COQP7cKq3V"
      }
    },
    {
      "cell_type": "code",
      "source": [
        "#Survival Rate by Sex: 74.2% of females survived, while only 18.9% of males survived,\n",
        "# indicating a strong survival advantage for women.\n",
        "#Average Age by Pclass: First-class passengers had the highest average age (38.2 years),\n",
        "# followed by second-class (29.9 years) and third-class (25.1 years),\n",
        "# suggesting older individuals were more likely in higher classes"
      ],
      "metadata": {
        "id": "iJ3HOxW4KuHO"
      },
      "execution_count": null,
      "outputs": []
    },
    {
      "cell_type": "markdown",
      "source": [
        "## **Student Challenge**"
      ],
      "metadata": {
        "id": "DlEdwZZQYmXL"
      }
    },
    {
      "cell_type": "code",
      "source": [
        "# prompt: Create a small activity as student challenge based on the previous code cells\n",
        "\n",
        "# Student Challenge: Data Exploration and Analysis\n",
        "\n",
        "# Instructions:\n",
        "# 1. Calculate the survival rate for each passenger class (Pclass).\n",
        "# 2. Find the average fare paid by passengers in each embarkation port (Embarked).\n",
        "#\n",
        "\n",
        "# Write your code here:\n",
        "\n",
        "\n",
        "\n",
        "# 1. Calculate survival rate for each passenger class\n",
        "\n",
        "\n",
        "# Print survival_rate_by_class\n",
        "\n",
        "\n",
        "# 2. Average fare by embarkation port\n",
        "average_fare_by_port =\n",
        "\n",
        "#print average_fare_by_port\n",
        "\n"
      ],
      "metadata": {
        "id": "sfCUVe1KX9dS",
        "colab": {
          "base_uri": "https://localhost:8080/",
          "height": 106
        },
        "outputId": "f8e05a9d-9670-4b85-813e-51041467f517"
      },
      "execution_count": null,
      "outputs": [
        {
          "output_type": "error",
          "ename": "SyntaxError",
          "evalue": "invalid syntax (<ipython-input-31-4099c9392905>, line 23)",
          "traceback": [
            "\u001b[0;36m  File \u001b[0;32m\"<ipython-input-31-4099c9392905>\"\u001b[0;36m, line \u001b[0;32m23\u001b[0m\n\u001b[0;31m    average_fare_by_port =\u001b[0m\n\u001b[0m                          ^\u001b[0m\n\u001b[0;31mSyntaxError\u001b[0m\u001b[0;31m:\u001b[0m invalid syntax\n"
          ]
        }
      ]
    },
    {
      "cell_type": "code",
      "source": [
        "\n",
        "\n",
        "# Multiple aggregations\n",
        "class_stats = titanic_df.groupby('Pclass').agg({'Age': ['mean', 'min', 'max'], 'Fare': ['mean']})\n",
        "print(class_stats)\n",
        "\n",
        "\n"
      ],
      "metadata": {
        "id": "lJXbPL9PKDek",
        "colab": {
          "base_uri": "https://localhost:8080/"
        },
        "outputId": "2dd0c9e2-4b30-4f7c-f1c9-0e01894dab68"
      },
      "execution_count": null,
      "outputs": [
        {
          "output_type": "stream",
          "name": "stdout",
          "text": [
            "              Age                   Fare\n",
            "             mean   min   max       mean\n",
            "Pclass                                  \n",
            "1       36.812130  0.92  80.0  84.154687\n",
            "2       29.765380  0.67  70.0  20.662183\n",
            "3       25.932627  0.42  74.0  13.675550\n"
          ]
        }
      ]
    },
    {
      "cell_type": "code",
      "source": [
        "#interpretation\n",
        "#Age by Pclass: First-class passengers were the oldest on average (38.2 years), followed by second-class (29.9 years) and third-class (25.1 years), indicating older individuals tended to afford higher-class tickets.\n",
        "#Fare by Pclass: First-class passengers paid the highest average fare ($84.15), while second-class paid significantly less ($20.66) and third-class the least ($13.68), reflecting the cost difference between ticket classes"
      ],
      "metadata": {
        "id": "b2RX-nd7LV8B"
      },
      "execution_count": null,
      "outputs": []
    },
    {
      "cell_type": "markdown",
      "source": [
        "# ** Activity 5: Multi-Level Grouping and Pivot Tables\n",
        "---\n",
        "\n"
      ],
      "metadata": {
        "id": "ZF27xlnuLf_Y"
      }
    },
    {
      "cell_type": "code",
      "source": [
        "# Activity 5: Multi-Level Grouping and Pivot Tables\n",
        "\n",
        "# Survival by gender and class\n",
        "survival_by_gender_class = titanic_df.groupby(['Sex', 'Pclass'])['Survived'].mean()\n",
        "print(survival_by_gender_class)\n",
        "\n",
        "\n",
        "\n"
      ],
      "metadata": {
        "id": "nUKx8sjXK664",
        "colab": {
          "base_uri": "https://localhost:8080/"
        },
        "outputId": "8a31e224-08bf-4479-bbf7-549b9b973d5e"
      },
      "execution_count": null,
      "outputs": [
        {
          "output_type": "stream",
          "name": "stdout",
          "text": [
            "Sex     Pclass\n",
            "female  1         0.968085\n",
            "        2         0.921053\n",
            "        3         0.500000\n",
            "male    1         0.368852\n",
            "        2         0.157407\n",
            "        3         0.135447\n",
            "Name: Survived, dtype: float64\n"
          ]
        }
      ]
    },
    {
      "cell_type": "code",
      "source": [
        "\n",
        "# Pivot table - Average fare by class and embarked\n",
        "fare_pivot = titanic_df.pivot_table(index='Pclass', columns='Embarked', values='Fare', aggfunc='mean')\n",
        "print(fare_pivot)\n",
        "#index='Pclass' means that the Pclass (Passenger Class) column is used as the row labels (index) of the table.\n",
        "#This organizes the data so that each row corresponds to a different passenger class (1st, 2nd, or 3rd class)."
      ],
      "metadata": {
        "id": "9mO31dzyOCDZ",
        "colab": {
          "base_uri": "https://localhost:8080/"
        },
        "outputId": "84ee4a79-0bb7-421e-ca85-4ef5542effa6"
      },
      "execution_count": null,
      "outputs": [
        {
          "output_type": "stream",
          "name": "stdout",
          "text": [
            "Embarked           C          Q          S\n",
            "Pclass                                    \n",
            "1         104.718529  90.000000  70.364862\n",
            "2          25.358335  12.350000  20.327439\n",
            "3          11.214083  11.183393  14.644083\n"
          ]
        }
      ]
    },
    {
      "cell_type": "markdown",
      "source": [
        "**Is there any difference between the two outputs Groupby and Pivot?**"
      ],
      "metadata": {
        "id": "czZY3nxRPXDD"
      }
    },
    {
      "cell_type": "code",
      "source": [
        "#Gropuby : Output Format\tSeries (Hierarchical Index)\tPivot: DataFrame (Cross-tabulated)\n",
        "#Gropuby :Best Used For\t1D summary of grouped data\t\tPivot: 2D structured summary for easy comparison"
      ],
      "metadata": {
        "id": "GSaJiJDzPGPD"
      },
      "execution_count": null,
      "outputs": []
    },
    {
      "cell_type": "markdown",
      "source": [
        "# ** Activity 6: Handling Missing Values in Pivot Tables\n",
        "**\n",
        "\n",
        "---\n",
        "\n"
      ],
      "metadata": {
        "id": "x51x7nrsL2He"
      }
    },
    {
      "cell_type": "code",
      "source": [
        "# Activity 6: Handling Missing Values in Pivot Tables\n",
        "\n",
        "# Pivot table with fill_value\n",
        "fare_pivot_filled = titanic_df.pivot_table(index='Pclass', columns='Embarked', values='Fare',\n",
        "                                               aggfunc='mean', fill_value=0)\n",
        "print(fare_pivot_filled)\n",
        "\n",
        "\n"
      ],
      "metadata": {
        "id": "qKLU_pUML_Rb",
        "colab": {
          "base_uri": "https://localhost:8080/"
        },
        "outputId": "7345db96-e104-4b41-e1ca-2bdbdd94dc8c"
      },
      "execution_count": null,
      "outputs": [
        {
          "output_type": "stream",
          "name": "stdout",
          "text": [
            "Embarked           C          Q          S\n",
            "Pclass                                    \n",
            "1         104.718529  90.000000  70.364862\n",
            "2          25.358335  12.350000  20.327439\n",
            "3          11.214083  11.183393  14.644083\n"
          ]
        }
      ]
    },
    {
      "cell_type": "markdown",
      "source": [
        "# ** Activity 7: Multi-Level Grouping and Pivot Tables\n",
        "**\n",
        "\n",
        "---\n",
        "\n"
      ],
      "metadata": {
        "id": "uQlDl8rfL748"
      }
    },
    {
      "cell_type": "code",
      "source": [
        "# Activity 7: Cross-Tabulation for Categorical Analysis\n",
        "\n",
        "# Survival by gender and class (cross-tab)\n",
        "survival_crosstab = pd.crosstab(titanic_df['Sex'], titanic_df['Pclass'],\n",
        "                                     values=titanic_df['Survived'], aggfunc='mean')\n",
        "print(survival_crosstab)\n",
        "\n",
        "\n",
        "#aggfunc=\"mean\" means that the function is calculating the average survival rate\n",
        "#for each combination of Sex and Pclass.\n",
        "\n"
      ],
      "metadata": {
        "id": "FjWvIg3WMVAQ",
        "colab": {
          "base_uri": "https://localhost:8080/"
        },
        "outputId": "a11deebd-66be-435b-d977-48c909213f22"
      },
      "execution_count": null,
      "outputs": [
        {
          "output_type": "stream",
          "name": "stdout",
          "text": [
            "Pclass         1         2         3\n",
            "Sex                                 \n",
            "female  0.968085  0.921053  0.500000\n",
            "male    0.368852  0.157407  0.135447\n"
          ]
        }
      ]
    },
    {
      "cell_type": "markdown",
      "source": [
        "**Interpretation of the output**\n",
        "\n",
        "97% of first-class females survived, while only 13% of third-class males survived.\n",
        "This shows a clear survival advantage for women and first-class passengers."
      ],
      "metadata": {
        "id": "QNIy8SeeRF4C"
      }
    },
    {
      "cell_type": "code",
      "source": [
        "# prompt: generate a heatmap based on the last code\n",
        "\n",
        "import pandas as pd\n",
        "import matplotlib.pyplot as plt\n",
        "import seaborn as sns\n",
        "\n",
        "# Assuming 'titanic_df' is your DataFrame from the previous code\n",
        "# If not, load your data here:\n",
        "# titanic_df = pd.read_csv(\"your_file.csv\")\n",
        "\n",
        "# Example: Heatmap of survival rate by passenger class and sex\n",
        "survival_heatmap = titanic_df.pivot_table(index='Pclass', columns='Sex', values='Survived', aggfunc='mean')\n",
        "\n",
        "plt.figure(figsize=(8, 6))  # Adjust figure size as needed\n",
        "sns.heatmap(survival_heatmap, annot=True, cmap='viridis', fmt=\".2f\") # annot=True displays values\n",
        "plt.title('Survival Rate by Passenger Class and Sex')\n",
        "plt.xlabel('Sex')\n",
        "plt.ylabel('Passenger Class')\n",
        "plt.show()\n",
        "\n",
        "\n"
      ],
      "metadata": {
        "id": "hBEgSONkRYT8",
        "colab": {
          "base_uri": "https://localhost:8080/",
          "height": 564
        },
        "outputId": "7d9b61cc-3b0e-4ae3-b930-7f0a67901a50"
      },
      "execution_count": null,
      "outputs": [
        {
          "output_type": "display_data",
          "data": {
            "text/plain": [
              "<Figure size 800x600 with 2 Axes>"
            ],
            "image/png": "[encoded data removed]"
          },
          "metadata": {}
        }
      ]
    },
    {
      "cell_type": "code",
      "source": [
        "\n",
        "# Example 2: Heatmap of Fare by Embarked and Pclass\n",
        "fare_heatmap = titanic_df.pivot_table(index='Embarked', columns='Pclass', values='Fare', aggfunc='mean')\n",
        "\n",
        "plt.figure(figsize=(8, 6))\n",
        "sns.heatmap(fare_heatmap, annot=True, cmap='YlGnBu', fmt=\".2f\")\n",
        "plt.title('Average Fare by Embarked and Pclass')\n",
        "plt.xlabel('Passenger Class')\n",
        "plt.ylabel('Embarked')\n",
        "plt.show()"
      ],
      "metadata": {
        "id": "GUZL_1i3SY88",
        "colab": {
          "base_uri": "https://localhost:8080/",
          "height": 564
        },
        "outputId": "2f520af1-fb99-4f7d-b8af-a56b303b85b2"
      },
      "execution_count": null,
      "outputs": [
        {
          "output_type": "display_data",
          "data": {
            "text/plain": [
              "<Figure size 800x600 with 2 Axes>"
            ],
            "image/png": "[encoded data removed]"
          },
          "metadata": {}
        }
      ]
    },
    {
      "cell_type": "code",
      "source": [
        "#interpret the last heatmap\n",
        "\n",
        "#The above  heatmap shows the average fare paid by passengers based on their port of embarkation (Embarked) and passenger class (Pclass).  The color intensity represents the average fare, with darker shades indicating higher average fares.\n",
        "\n",
        "For example:\n",
        "\n",
        "# Passengers who embarked at Cherbourg (C)** generally paid higher fares, especially in first class.\n",
        "#Passengers in first class (Pclass = 1)** paid the highest average fares regardless of the port of embarkation.\n",
        "#Passengers in third class (Pclass = 3)** paid the lowest average fares across all ports.\n",
        "\n",
        "#The heatmap provides a visual summary of how fare amounts vary across these two categorical variables, allowing for quick identification of trends and patterns.\n"
      ],
      "metadata": {
        "id": "O5yIJ4-CSoDB"
      },
      "execution_count": null,
      "outputs": []
    },
    {
      "cell_type": "code",
      "source": [
        "# Percentage-based cross-tabulation\n",
        "survival_crosstab_percent = pd.crosstab(titanic_df['Sex'], titanic_df['Pclass'],\n",
        "                                           values=titanic_df['Survived'], aggfunc='mean', normalize='index') * 100\n",
        "print(survival_crosstab_percent)\n",
        "\n",
        "#normalize='index' converts the values into percentages within each row,\n",
        "#making it easier to compare survival rates across passenger classes for each gender.\n",
        "#It scales the values so that each row sums to 100%, meaning it shows the distribution\n",
        "#of survival rates within each gender."
      ],
      "metadata": {
        "id": "8EEZh6zHQcIB",
        "colab": {
          "base_uri": "https://localhost:8080/"
        },
        "outputId": "98f81b70-b5e2-445e-c81b-41b083c8fb5c"
      },
      "execution_count": null,
      "outputs": [
        {
          "output_type": "stream",
          "name": "stdout",
          "text": [
            "Pclass          1          2          3\n",
            "Sex                                    \n",
            "female  40.520272  38.551676  20.928052\n",
            "male    55.742603  23.788099  20.469298\n"
          ]
        }
      ]
    },
    {
      "cell_type": "markdown",
      "source": [
        "# ** Activity 8: Multi-Level Grouping and Pivot Tables\n",
        "**\n",
        "\n",
        "---\n",
        "\n"
      ],
      "metadata": {
        "id": "K_CfeYFPMY2j"
      }
    },
    {
      "cell_type": "code",
      "source": [
        "# Activity 8: Top Survivors and Similar Analysis\n",
        "\n",
        "# Top survivors by age\n",
        "top_survivors_age = titanic_df[titanic_df['Survived'] == 1].sort_values('Age', ascending=False).head(10)\n",
        "print(top_survivors_age[['Name', 'Age', 'Sex', 'Pclass']])\n",
        "\n"
      ],
      "metadata": {
        "id": "tCF44RvQMbiL",
        "colab": {
          "base_uri": "https://localhost:8080/"
        },
        "outputId": "d9878784-8887-4b81-a0fd-c8b43ee9d21c"
      },
      "execution_count": null,
      "outputs": [
        {
          "output_type": "stream",
          "name": "stdout",
          "text": [
            "                                                 Name   Age     Sex  Pclass\n",
            "630              Barkworth, Mr. Algernon Henry Wilson  80.0    male       1\n",
            "483                            Turkula, Mrs. (Hedwig)  63.0  female       3\n",
            "275                 Andrews, Miss. Kornelia Theodosia  63.0  female       1\n",
            "570                                Harris, Mr. George  62.0    male       2\n",
            "829         Stone, Mrs. George Nelson (Martha Evelyn)  62.0  female       1\n",
            "587                  Frolicher-Stehli, Mr. Maxmillian  60.0    male       1\n",
            "366  Warren, Mrs. Frank Manley (Anna Sophia Atkinson)  60.0  female       1\n",
            "195                              Lurette, Miss. Elise  58.0  female       1\n",
            "11                           Bonnell, Miss. Elizabeth  58.0  female       1\n",
            "268     Graham, Mrs. William Thompson (Edith Junkins)  58.0  female       1\n"
          ]
        }
      ]
    },
    {
      "cell_type": "code",
      "source": [
        "# Survival rate by family size\n",
        "titanic_df['FamilySize'] = titanic_df['SibSp'] + titanic_df['Parch'] + 1\n",
        "survival_by_family = titanic_df.groupby('FamilySize')['Survived'].mean()\n",
        "print(survival_by_family)\n",
        "\n",
        "import matplotlib.pyplot as plt\n",
        "import seaborn as sns\n",
        "\n"
      ],
      "metadata": {
        "id": "gCSBbt0fT7qH",
        "colab": {
          "base_uri": "https://localhost:8080/"
        },
        "outputId": "bacd125d-f2af-487c-d2e3-dc2d0a75640c"
      },
      "execution_count": null,
      "outputs": [
        {
          "output_type": "stream",
          "name": "stdout",
          "text": [
            "FamilySize\n",
            "1     0.303538\n",
            "2     0.552795\n",
            "3     0.578431\n",
            "4     0.724138\n",
            "5     0.200000\n",
            "6     0.136364\n",
            "7     0.333333\n",
            "8     0.000000\n",
            "11    0.000000\n",
            "Name: Survived, dtype: float64\n"
          ]
        }
      ]
    },
    {
      "cell_type": "code",
      "source": [
        "# Calculate survival rate by passenger class\n",
        "survival_rate_by_class = titanic_df.groupby('Pclass')['Survived'].mean()\n",
        "\n",
        "# Create a bar chart\n",
        "plt.figure(figsize=(8, 6))\n",
        "sns.barplot(x=survival_rate_by_class.index, y=survival_rate_by_class.values)\n",
        "plt.title('Survival Rate by Passenger Class')\n",
        "plt.xlabel('Passenger Class')\n",
        "plt.ylabel('Survival Rate')\n",
        "plt.xticks(survival_rate_by_class.index, ['1st Class', '2nd Class', '3rd Class'])  # Customize x-axis labels\n",
        "plt.show()\n",
        "\n",
        "# Conclusion\n",
        "\n",
        "# Recap: We explored the Titanic dataset, handled missing values, performed groupby\n",
        "# operations, used pivot tables, and analyzed survival patterns based on various factors.\n",
        "\n",
        "# Discussion: The analysis revealed insights into the demographics of survivors and\n",
        "# the factors that influenced survival, such as gender, passenger class, and family size.\n",
        "\n",
        "# Further Exploration: Students can further explore the dataset by creating visualizations,\n",
        "# investigating other factors related to survival, and applying more advanced analytical techniques."
      ],
      "metadata": {
        "id": "ChVbhYPZUBon",
        "colab": {
          "base_uri": "https://localhost:8080/",
          "height": 564
        },
        "outputId": "02314177-f2df-4ae8-dc86-554eef13163e"
      },
      "execution_count": null,
      "outputs": [
        {
          "output_type": "display_data",
          "data": {
            "text/plain": [
              "<Figure size 800x600 with 1 Axes>"
            ],
            "image/png": "[encoded data removed]"
          },
          "metadata": {}
        }
      ]
    },
    {
      "cell_type": "code",
      "source": [
        "\n",
        "print(\"\\nLab Completed Successfully!\")\n"
      ],
      "metadata": {
        "id": "devWZeeXUkFf",
        "colab": {
          "base_uri": "https://localhost:8080/"
        },
        "outputId": "a3732480-0bfb-41b8-af58-bfd2936700b1"
      },
      "execution_count": null,
      "outputs": [
        {
          "output_type": "stream",
          "name": "stdout",
          "text": [
            "\n",
            "Lab Completed Successfully!\n"
          ]
        }
      ]
    },
    {
      "cell_type": "markdown",
      "source": [
        "# **Activity 9: Exporting Data and Saving a new file**"
      ],
      "metadata": {
        "id": "QZN4famjnKri"
      }
    },
    {
      "cell_type": "code",
      "source": [
        "#Save the cleaned dataset to a new CSV file.\n",
        "df.to_csv(\"New_Titanic-Dataset.csv\", index=False)\n",
        "#Important: This command will create a new data set that would appear on left handside\n",
        "# You can download that file for your record."
      ],
      "metadata": {
        "id": "q4vNnHm2niVL",
        "colab": {
          "base_uri": "https://localhost:8080/",
          "height": 193
        },
        "outputId": "e13ea874-94be-4b4f-93db-1a79ff52d856"
      },
      "execution_count": null,
      "outputs": [
        {
          "output_type": "error",
          "ename": "NameError",
          "evalue": "name 'df' is not defined",
          "traceback": [
            "\u001b[0;31m---------------------------------------------------------------------------\u001b[0m",
            "\u001b[0;31mNameError\u001b[0m                                 Traceback (most recent call last)",
            "\u001b[0;32m<ipython-input-34-b7af41c13354>\u001b[0m in \u001b[0;36m<cell line: 0>\u001b[0;34m()\u001b[0m\n\u001b[1;32m      1\u001b[0m \u001b[0;31m#Save the cleaned dataset to a new CSV file.\u001b[0m\u001b[0;34m\u001b[0m\u001b[0;34m\u001b[0m\u001b[0m\n\u001b[0;32m----> 2\u001b[0;31m \u001b[0mdf\u001b[0m\u001b[0;34m.\u001b[0m\u001b[0mto_csv\u001b[0m\u001b[0;34m(\u001b[0m\u001b[0;34m\"New_Titanic-Dataset.csv\"\u001b[0m\u001b[0;34m,\u001b[0m \u001b[0mindex\u001b[0m\u001b[0;34m=\u001b[0m\u001b[0;32mFalse\u001b[0m\u001b[0;34m)\u001b[0m\u001b[0;34m\u001b[0m\u001b[0;34m\u001b[0m\u001b[0m\n\u001b[0m\u001b[1;32m      3\u001b[0m \u001b[0;31m#Important: This command will create a new data set that would appear on left handside\u001b[0m\u001b[0;34m\u001b[0m\u001b[0;34m\u001b[0m\u001b[0m\n\u001b[1;32m      4\u001b[0m \u001b[0;31m# You can download that file for your record.\u001b[0m\u001b[0;34m\u001b[0m\u001b[0;34m\u001b[0m\u001b[0m\n",
            "\u001b[0;31mNameError\u001b[0m: name 'df' is not defined"
          ]
        }
      ]
    },
    {
      "cell_type": "code",
      "source": [
        "# !pip install --upgrade visions --use-deprecated=legacy-resolver\n",
        "#!pip uninstall pandas-profiling -y\n",
        "!pip install visions==0.7.6 --use-deprecated=legacy-resolver\n",
        "\n",
        "!pip install --upgrade numba --use-deprecated=legacy-resolver\n",
        "# !pip install --upgrade pandas-profiling --use-deprecated=legacy-resolver\n",
        "!pip install ydata-profiling --use-deprecated=legacy-resolver\n",
        "\n"
      ],
      "metadata": {
        "id": "I23eYdNanolf",
        "colab": {
          "base_uri": "https://localhost:8080/"
        },
        "outputId": "ca630346-35c5-406e-8f20-00b9d7f61862"
      },
      "execution_count": null,
      "outputs": [
        {
          "output_type": "stream",
          "name": "stdout",
          "text": [
            "Collecting visions==0.7.6\n",
            "  Downloading visions-0.7.6-py3-none-any.whl (104 kB)\n",
            "\u001b[?25l     \u001b[90m━━━━━━━━━━━━━━━━━━━━━━━━━━━━━━━━━━━━━━━━\u001b[0m \u001b[32m0.0/104.8 kB\u001b[0m \u001b[31m?\u001b[0m eta \u001b[36m-:--:--\u001b[0m\r\u001b[2K     \u001b[91m━━━━━━━━━━━━━━━━━━━━━━━━━━━━━━━━━━━━━━━\u001b[0m\u001b[90m╺\u001b[0m \u001b[32m102.4/104.8 kB\u001b[0m \u001b[31m3.2 MB/s\u001b[0m eta \u001b[36m0:00:01\u001b[0m\r\u001b[2K     \u001b[90m━━━━━━━━━━━━━━━━━━━━━━━━━━━━━━━━━━━━━━━━\u001b[0m \u001b[32m104.8/104.8 kB\u001b[0m \u001b[31m2.4 MB/s\u001b[0m eta \u001b[36m0:00:00\u001b[0m\n",
            "\u001b[?25hRequirement already satisfied: numpy>=1.23.2 in /usr/local/lib/python3.11/dist-packages (from visions==0.7.6) (1.26.4)\n",
            "Requirement already satisfied: pandas>=2.0.0 in /usr/local/lib/python3.11/dist-packages (from visions==0.7.6) (2.2.2)\n",
            "Requirement already satisfied: attrs>=19.3.0 in /usr/local/lib/python3.11/dist-packages (from visions==0.7.6) (25.1.0)\n",
            "Requirement already satisfied: networkx>=2.4 in /usr/local/lib/python3.11/dist-packages (from visions==0.7.6) (3.4.2)\n",
            "Collecting multimethod>=1.4 (from visions==0.7.6)\n",
            "  Downloading multimethod-2.0-py3-none-any.whl (9.8 kB)\n",
            "Requirement already satisfied: python-dateutil>=2.8.2 in /usr/local/lib/python3.11/dist-packages (from pandas>=2.0.0->visions==0.7.6) (2.8.2)\n",
            "Requirement already satisfied: pytz>=2020.1 in /usr/local/lib/python3.11/dist-packages (from pandas>=2.0.0->visions==0.7.6) (2025.1)\n",
            "Requirement already satisfied: tzdata>=2022.7 in /usr/local/lib/python3.11/dist-packages (from pandas>=2.0.0->visions==0.7.6) (2025.1)\n",
            "Requirement already satisfied: six>=1.5 in /usr/local/lib/python3.11/dist-packages (from python-dateutil>=2.8.2->pandas>=2.0.0->visions==0.7.6) (1.17.0)\n",
            "Installing collected packages: multimethod, visions\n",
            "Successfully installed multimethod-2.0 visions-0.7.6\n",
            "Collecting numba\n",
            "  Downloading numba-0.61.0-cp311-cp311-manylinux2014_x86_64.manylinux_2_17_x86_64.whl (3.8 MB)\n",
            "\u001b[2K     \u001b[90m━━━━━━━━━━━━━━━━━━━━━━━━━━━━━━━━━━━━━━━━\u001b[0m \u001b[32m3.8/3.8 MB\u001b[0m \u001b[31m26.3 MB/s\u001b[0m eta \u001b[36m0:00:00\u001b[0m\n",
            "\u001b[?25hCollecting llvmlite<0.45,>=0.44.0dev0 (from numba)\n",
            "  Downloading llvmlite-0.44.0-cp311-cp311-manylinux_2_17_x86_64.manylinux2014_x86_64.whl (42.4 MB)\n",
            "\u001b[2K     \u001b[90m━━━━━━━━━━━━━━━━━━━━━━━━━━━━━━━━━━━━━━━━\u001b[0m \u001b[32m42.4/42.4 MB\u001b[0m \u001b[31m17.0 MB/s\u001b[0m eta \u001b[36m0:00:00\u001b[0m\n",
            "\u001b[?25hRequirement already satisfied, skipping upgrade: numpy<2.2,>=1.24 in /usr/local/lib/python3.11/dist-packages (from numba) (1.26.4)\n",
            "Installing collected packages: llvmlite, numba\n",
            "  Attempting uninstall: llvmlite\n",
            "    Found existing installation: llvmlite 0.43.0\n",
            "    Uninstalling llvmlite-0.43.0:\n",
            "      Successfully uninstalled llvmlite-0.43.0\n",
            "  Attempting uninstall: numba\n",
            "    Found existing installation: numba 0.60.0\n",
            "    Uninstalling numba-0.60.0:\n",
            "      Successfully uninstalled numba-0.60.0\n",
            "\u001b[31mERROR: pip's legacy dependency resolver does not consider dependency conflicts when selecting packages. This behaviour is the source of the following dependency conflicts.\n",
            "cudf-cu12 25.2.1 requires numba<0.61.0a0,>=0.59.1, but you'll have numba 0.61.0 which is incompatible.\n",
            "dask-cuda 25.2.0 requires numba<0.61.0a0,>=0.59.1, but you'll have numba 0.61.0 which is incompatible.\n",
            "distributed-ucxx-cu12 0.42.0 requires numba<0.61.0a0,>=0.59.1, but you'll have numba 0.61.0 which is incompatible.\n",
            "cuml-cu12 25.2.1 requires numba<0.61.0a0,>=0.59.1, but you'll have numba 0.61.0 which is incompatible.\u001b[0m\u001b[31m\n",
            "\u001b[0mSuccessfully installed llvmlite-0.44.0 numba-0.61.0\n",
            "Collecting ydata-profiling\n",
            "  Downloading ydata_profiling-4.13.0-py2.py3-none-any.whl (392 kB)\n",
            "\u001b[2K     \u001b[90m━━━━━━━━━━━━━━━━━━━━━━━━━━━━━━━━━━━━━━━━\u001b[0m \u001b[32m392.1/392.1 kB\u001b[0m \u001b[31m5.7 MB/s\u001b[0m eta \u001b[36m0:00:00\u001b[0m\n",
            "\u001b[?25hRequirement already satisfied: scipy<1.14,>=1.4.1 in /usr/local/lib/python3.11/dist-packages (from ydata-profiling) (1.13.1)\n",
            "Requirement already satisfied: pandas!=1.4.0,<3.0,>1.1 in /usr/local/lib/python3.11/dist-packages (from ydata-profiling) (2.2.2)\n",
            "Requirement already satisfied: matplotlib<=3.10,>=3.5 in /usr/local/lib/python3.11/dist-packages (from ydata-profiling) (3.10.0)\n",
            "Requirement already satisfied: pydantic>=2 in /usr/local/lib/python3.11/dist-packages (from ydata-profiling) (2.10.6)\n",
            "Requirement already satisfied: PyYAML<6.1,>=5.0.0 in /usr/local/lib/python3.11/dist-packages (from ydata-profiling) (6.0.2)\n",
            "Requirement already satisfied: jinja2<3.2,>=2.11.1 in /usr/local/lib/python3.11/dist-packages (from ydata-profiling) (3.1.5)\n",
            "Requirement already satisfied: visions[type_image_path]<0.7.7,>=0.7.5 in /usr/local/lib/python3.11/dist-packages (from ydata-profiling) (0.7.6)\n",
            "\u001b[33m  WARNING: visions 0.7.6 does not provide the extra 'type_image_path'\u001b[0m\u001b[33m\n",
            "\u001b[0mRequirement already satisfied: numpy<2.2,>=1.16.0 in /usr/local/lib/python3.11/dist-packages (from ydata-profiling) (1.26.4)\n",
            "Collecting htmlmin==0.1.12 (from ydata-profiling)\n",
            "  Downloading htmlmin-0.1.12.tar.gz (19 kB)\n",
            "  Preparing metadata (setup.py) ... \u001b[?25l\u001b[?25hdone\n",
            "Collecting phik<0.13,>=0.11.1 (from ydata-profiling)\n",
            "  Downloading phik-0.12.4-cp311-cp311-manylinux_2_17_x86_64.manylinux2014_x86_64.whl (687 kB)\n",
            "\u001b[2K     \u001b[90m━━━━━━━━━━━━━━━━━━━━━━━━━━━━━━━━━━━━━━━━\u001b[0m \u001b[32m687.8/687.8 kB\u001b[0m \u001b[31m28.5 MB/s\u001b[0m eta \u001b[36m0:00:00\u001b[0m\n",
            "\u001b[?25hRequirement already satisfied: requests<3,>=2.24.0 in /usr/local/lib/python3.11/dist-packages (from ydata-profiling) (2.32.3)\n",
            "Requirement already satisfied: tqdm<5,>=4.48.2 in /usr/local/lib/python3.11/dist-packages (from ydata-profiling) (4.67.1)\n",
            "Requirement already satisfied: seaborn<0.14,>=0.10.1 in /usr/local/lib/python3.11/dist-packages (from ydata-profiling) (0.13.2)\n",
            "Collecting multimethod<2,>=1.4 (from ydata-profiling)\n",
            "  Downloading multimethod-1.12-py3-none-any.whl (10 kB)\n",
            "Requirement already satisfied: statsmodels<1,>=0.13.2 in /usr/local/lib/python3.11/dist-packages (from ydata-profiling) (0.14.4)\n",
            "Requirement already satisfied: typeguard<5,>=3 in /usr/local/lib/python3.11/dist-packages (from ydata-profiling) (4.4.2)\n",
            "Collecting imagehash==4.3.1 (from ydata-profiling)\n",
            "  Downloading ImageHash-4.3.1-py2.py3-none-any.whl (296 kB)\n",
            "\u001b[2K     \u001b[90m━━━━━━━━━━━━━━━━━━━━━━━━━━━━━━━━━━━━━━━━\u001b[0m \u001b[32m296.5/296.5 kB\u001b[0m \u001b[31m24.0 MB/s\u001b[0m eta \u001b[36m0:00:00\u001b[0m\n",
            "\u001b[?25hRequirement already satisfied: wordcloud>=1.9.3 in /usr/local/lib/python3.11/dist-packages (from ydata-profiling) (1.9.4)\n",
            "Collecting dacite>=1.8 (from ydata-profiling)\n",
            "  Downloading dacite-1.9.2-py3-none-any.whl (16 kB)\n",
            "Requirement already satisfied: numba<1,>=0.56.0 in /usr/local/lib/python3.11/dist-packages (from ydata-profiling) (0.61.0)\n",
            "Requirement already satisfied: python-dateutil>=2.8.2 in /usr/local/lib/python3.11/dist-packages (from pandas!=1.4.0,<3.0,>1.1->ydata-profiling) (2.8.2)\n",
            "Requirement already satisfied: pytz>=2020.1 in /usr/local/lib/python3.11/dist-packages (from pandas!=1.4.0,<3.0,>1.1->ydata-profiling) (2025.1)\n",
            "Requirement already satisfied: tzdata>=2022.7 in /usr/local/lib/python3.11/dist-packages (from pandas!=1.4.0,<3.0,>1.1->ydata-profiling) (2025.1)\n",
            "Requirement already satisfied: contourpy>=1.0.1 in /usr/local/lib/python3.11/dist-packages (from matplotlib<=3.10,>=3.5->ydata-profiling) (1.3.1)\n",
            "Requirement already satisfied: cycler>=0.10 in /usr/local/lib/python3.11/dist-packages (from matplotlib<=3.10,>=3.5->ydata-profiling) (0.12.1)\n",
            "Requirement already satisfied: fonttools>=4.22.0 in /usr/local/lib/python3.11/dist-packages (from matplotlib<=3.10,>=3.5->ydata-profiling) (4.56.0)\n",
            "Requirement already satisfied: kiwisolver>=1.3.1 in /usr/local/lib/python3.11/dist-packages (from matplotlib<=3.10,>=3.5->ydata-profiling) (1.4.8)\n",
            "Requirement already satisfied: packaging>=20.0 in /usr/local/lib/python3.11/dist-packages (from matplotlib<=3.10,>=3.5->ydata-profiling) (24.2)\n",
            "Requirement already satisfied: pillow>=8 in /usr/local/lib/python3.11/dist-packages (from matplotlib<=3.10,>=3.5->ydata-profiling) (11.1.0)\n",
            "Requirement already satisfied: pyparsing>=2.3.1 in /usr/local/lib/python3.11/dist-packages (from matplotlib<=3.10,>=3.5->ydata-profiling) (3.2.1)\n",
            "Requirement already satisfied: annotated-types>=0.6.0 in /usr/local/lib/python3.11/dist-packages (from pydantic>=2->ydata-profiling) (0.7.0)\n",
            "Requirement already satisfied: pydantic-core==2.27.2 in /usr/local/lib/python3.11/dist-packages (from pydantic>=2->ydata-profiling) (2.27.2)\n",
            "Requirement already satisfied: typing-extensions>=4.12.2 in /usr/local/lib/python3.11/dist-packages (from pydantic>=2->ydata-profiling) (4.12.2)\n",
            "Requirement already satisfied: MarkupSafe>=2.0 in /usr/local/lib/python3.11/dist-packages (from jinja2<3.2,>=2.11.1->ydata-profiling) (3.0.2)\n",
            "Requirement already satisfied: attrs>=19.3.0 in /usr/local/lib/python3.11/dist-packages (from visions[type_image_path]<0.7.7,>=0.7.5->ydata-profiling) (25.1.0)\n",
            "Requirement already satisfied: networkx>=2.4 in /usr/local/lib/python3.11/dist-packages (from visions[type_image_path]<0.7.7,>=0.7.5->ydata-profiling) (3.4.2)\n",
            "Requirement already satisfied: joblib>=0.14.1 in /usr/local/lib/python3.11/dist-packages (from phik<0.13,>=0.11.1->ydata-profiling) (1.4.2)\n",
            "Requirement already satisfied: charset-normalizer<4,>=2 in /usr/local/lib/python3.11/dist-packages (from requests<3,>=2.24.0->ydata-profiling) (3.4.1)\n",
            "Requirement already satisfied: idna<4,>=2.5 in /usr/local/lib/python3.11/dist-packages (from requests<3,>=2.24.0->ydata-profiling) (3.10)\n",
            "Requirement already satisfied: urllib3<3,>=1.21.1 in /usr/local/lib/python3.11/dist-packages (from requests<3,>=2.24.0->ydata-profiling) (2.3.0)\n",
            "Requirement already satisfied: certifi>=2017.4.17 in /usr/local/lib/python3.11/dist-packages (from requests<3,>=2.24.0->ydata-profiling) (2025.1.31)\n",
            "Requirement already satisfied: patsy>=0.5.6 in /usr/local/lib/python3.11/dist-packages (from statsmodels<1,>=0.13.2->ydata-profiling) (1.0.1)\n",
            "Collecting PyWavelets (from imagehash==4.3.1->ydata-profiling)\n",
            "  Downloading pywavelets-1.8.0-cp311-cp311-manylinux_2_17_x86_64.manylinux2014_x86_64.whl (4.5 MB)\n",
            "\u001b[2K     \u001b[90m━━━━━━━━━━━━━━━━━━━━━━━━━━━━━━━━━━━━━━━━\u001b[0m \u001b[32m4.5/4.5 MB\u001b[0m \u001b[31m80.9 MB/s\u001b[0m eta \u001b[36m0:00:00\u001b[0m\n",
            "\u001b[?25hRequirement already satisfied: llvmlite<0.45,>=0.44.0dev0 in /usr/local/lib/python3.11/dist-packages (from numba<1,>=0.56.0->ydata-profiling) (0.44.0)\n",
            "Requirement already satisfied: six>=1.5 in /usr/local/lib/python3.11/dist-packages (from python-dateutil>=2.8.2->pandas!=1.4.0,<3.0,>1.1->ydata-profiling) (1.17.0)\n",
            "Building wheels for collected packages: htmlmin\n",
            "  Building wheel for htmlmin (setup.py) ... \u001b[?25l\u001b[?25hdone\n",
            "  Created wheel for htmlmin: filename=htmlmin-0.1.12-py3-none-any.whl size=27081 sha256=6d0bd53e330a7c76f802d8650285ae9e54f54cea6a2c3df672dc2e9881efc502\n",
            "  Stored in directory: /root/.cache/pip/wheels/8d/55/1a/19cd535375ed1ede0c996405ebffe34b196d78e2d9545723a2\n",
            "Successfully built htmlmin\n",
            "Installing collected packages: htmlmin, phik, multimethod, PyWavelets, imagehash, dacite, ydata-profiling\n",
            "  Attempting uninstall: multimethod\n",
            "    Found existing installation: multimethod 2.0\n",
            "    Uninstalling multimethod-2.0:\n",
            "      Successfully uninstalled multimethod-2.0\n",
            "Successfully installed PyWavelets-1.8.0 dacite-1.9.2 htmlmin-0.1.12 imagehash-4.3.1 multimethod-1.12 phik-0.12.4 ydata-profiling-4.13.0\n"
          ]
        }
      ]
    },
    {
      "cell_type": "code",
      "source": [
        "from ydata_profiling import ProfileReport\n",
        "\n",
        "profile = ProfileReport(df, title=\"Pandas Profiling Report\") #df is your dataframe\n",
        "profile.to_notebook_iframe() #To show the report inline in the notebook\n",
        "#profile.to_file(\"your_report.html\") #To save the report as an HTML file\n"
      ],
      "metadata": {
        "id": "wI_p-3tMy0SA",
        "colab": {
          "base_uri": "https://localhost:8080/",
          "height": 257
        },
        "outputId": "2cbae3ce-7135-43d3-9961-6a1c3c944d84"
      },
      "execution_count": null,
      "outputs": [
        {
          "output_type": "display_data",
          "data": {
            "text/plain": [
              "<IPython.core.display.HTML object>"
            ],
            "text/html": [
              "\n",
              "        <div>\n",
              "            <ins><a href=\"https://ydata.ai/register\">Upgrade to ydata-sdk</a></ins>\n",
              "            <p>\n",
              "                Improve your data and profiling with ydata-sdk, featuring data quality scoring, redundancy detection, outlier identification, text validation, and synthetic data generation.\n",
              "            </p>\n",
              "        </div>\n",
              "        "
            ]
          },
          "metadata": {}
        },
        {
          "output_type": "error",
          "ename": "NameError",
          "evalue": "name 'df' is not defined",
          "traceback": [
            "\u001b[0;31m---------------------------------------------------------------------------\u001b[0m",
            "\u001b[0;31mNameError\u001b[0m                                 Traceback (most recent call last)",
            "\u001b[0;32m<ipython-input-27-22d41c9b551f>\u001b[0m in \u001b[0;36m<cell line: 0>\u001b[0;34m()\u001b[0m\n\u001b[1;32m      1\u001b[0m \u001b[0;32mfrom\u001b[0m \u001b[0mydata_profiling\u001b[0m \u001b[0;32mimport\u001b[0m \u001b[0mProfileReport\u001b[0m\u001b[0;34m\u001b[0m\u001b[0;34m\u001b[0m\u001b[0m\n\u001b[1;32m      2\u001b[0m \u001b[0;34m\u001b[0m\u001b[0m\n\u001b[0;32m----> 3\u001b[0;31m \u001b[0mprofile\u001b[0m \u001b[0;34m=\u001b[0m \u001b[0mProfileReport\u001b[0m\u001b[0;34m(\u001b[0m\u001b[0mdf\u001b[0m\u001b[0;34m,\u001b[0m \u001b[0mtitle\u001b[0m\u001b[0;34m=\u001b[0m\u001b[0;34m\"Pandas Profiling Report\"\u001b[0m\u001b[0;34m)\u001b[0m \u001b[0;31m#df is your dataframe\u001b[0m\u001b[0;34m\u001b[0m\u001b[0;34m\u001b[0m\u001b[0m\n\u001b[0m\u001b[1;32m      4\u001b[0m \u001b[0mprofile\u001b[0m\u001b[0;34m.\u001b[0m\u001b[0mto_notebook_iframe\u001b[0m\u001b[0;34m(\u001b[0m\u001b[0;34m)\u001b[0m \u001b[0;31m#To show the report inline in the notebook\u001b[0m\u001b[0;34m\u001b[0m\u001b[0;34m\u001b[0m\u001b[0m\n\u001b[1;32m      5\u001b[0m \u001b[0;31m#profile.to_file(\"your_report.html\") #To save the report as an HTML file\u001b[0m\u001b[0;34m\u001b[0m\u001b[0;34m\u001b[0m\u001b[0m\n",
            "\u001b[0;31mNameError\u001b[0m: name 'df' is not defined"
          ]
        }
      ]
    },
    {
      "cell_type": "markdown",
      "source": [
        "### **Home Work**"
      ],
      "metadata": {
        "id": "bYCm3A4uWC_c"
      }
    },
    {
      "cell_type": "code",
      "source": [
        "\n",
        "\n",
        "# Homework Activities: Titanic Dataset Analysis\n",
        "\n",
        "import pandas as pd\n",
        "import numpy as np\n",
        "import seaborn as sns\n",
        "import matplotlib.pyplot as plt\n",
        "from scipy.stats import zscore\n",
        "from scipy.stats.mstats import winsorize\n",
        "titanic_df=pd.read_csv('Titanic-Dataset.csv')\n",
        "# Activity 1: Survival Rate by Embarkation Point and Gender\n",
        "# Calculate and display the survival rate for each combination of embarkation point (Embarked) and gender (Sex).\n",
        "survival_rate_by_embarkation_point_and_gender=titanic_df.groupby(['Embarked','Sex'])['Survived'].mean()*100\n",
        "print(survival_rate_by_embarkation_point_and_gender)"
      ],
      "metadata": {
        "id": "rCj5NiCXVZbl",
        "colab": {
          "base_uri": "https://localhost:8080/"
        },
        "outputId": "a1708358-11d9-4204-b54a-b778d94fdd19"
      },
      "execution_count": 12,
      "outputs": [
        {
          "output_type": "stream",
          "name": "stdout",
          "text": [
            "Embarked  Sex   \n",
            "C         female    87.671233\n",
            "          male      30.526316\n",
            "Q         female    75.000000\n",
            "          male       7.317073\n",
            "S         female    68.965517\n",
            "          male      17.460317\n",
            "Name: Survived, dtype: float64\n"
          ]
        }
      ]
    },
    {
      "cell_type": "code",
      "source": [
        "# Activity 2: Average Fare by Passenger Class and Age Group\n",
        "# Create age groups (e.g., 0-10, 11-20, 21-30, etc.).\n",
        "# Calculate and display the average fare for each passenger class (Pclass) within each age group.\n",
        "Age_group = [0, 10, 20, 30, 40, 50, 60, 70, 80, 90, 100]\n",
        "titanic_df['Age_Group'] = pd.cut(titanic_df['Age'], bins=age_group, right=False)\n",
        "avg_fare_by_class_age = titanic_df.groupby(['Pclass', 'Age_Group'])['Fare'].mean().reset_index()\n",
        "print(avg_fare_by_class_age)"
      ],
      "metadata": {
        "id": "AS6PqViM8-RR",
        "colab": {
          "base_uri": "https://localhost:8080/"
        },
        "outputId": "cf6cf691-02c6-4659-a391-6830fa40df2f"
      },
      "execution_count": 16,
      "outputs": [
        {
          "output_type": "stream",
          "name": "stdout",
          "text": [
            "    Pclass  Age_Group        Fare\n",
            "0        1    [0, 10)  128.319433\n",
            "1        1   [10, 20)  114.106250\n",
            "2        1   [20, 30)  101.603797\n",
            "3        1   [30, 40)   98.344334\n",
            "4        1   [40, 50)   67.985141\n",
            "5        1   [50, 60)   74.600770\n",
            "6        1   [60, 70)   64.262177\n",
            "7        1   [70, 80)   51.719467\n",
            "8        1   [80, 90)   30.000000\n",
            "9        1  [90, 100)         NaN\n",
            "10       2    [0, 10)   28.740200\n",
            "11       2   [10, 20)   20.934489\n",
            "12       2   [20, 30)   22.273113\n",
            "13       2   [30, 40)   19.616146\n",
            "14       2   [40, 50)   23.125000\n",
            "15       2   [50, 60)   16.025000\n",
            "16       2   [60, 70)   20.000000\n",
            "17       2   [70, 80)   10.500000\n",
            "18       2   [80, 90)         NaN\n",
            "19       2  [90, 100)         NaN\n",
            "20       3    [0, 10)   24.338390\n",
            "21       3   [10, 20)   13.452276\n",
            "22       3   [20, 30)   10.273399\n",
            "23       3   [30, 40)   12.814730\n",
            "24       3   [40, 50)   13.250124\n",
            "25       3   [50, 60)    7.700700\n",
            "26       3   [60, 70)    7.858333\n",
            "27       3   [70, 80)    7.762500\n",
            "28       3   [80, 90)         NaN\n",
            "29       3  [90, 100)         NaN\n"
          ]
        },
        {
          "output_type": "stream",
          "name": "stderr",
          "text": [
            "<ipython-input-16-e3665e2c84f1>:6: FutureWarning: The default of observed=False is deprecated and will be changed to True in a future version of pandas. Pass observed=False to retain current behavior or observed=True to adopt the future default and silence this warning.\n",
            "  avg_fare_by_class_age = titanic_df.groupby(['Pclass', 'Age_Group'])['Fare'].mean().reset_index()\n"
          ]
        }
      ]
    },
    {
      "cell_type": "code",
      "source": [
        "# Activity 3: Survival Rate by Family Size and Passenger Class\n",
        "# Create a new column called 'FamilySize' representing the total size of each family (SibSp + Parch + 1).\n",
        "# Analyze the survival rate for each passenger class (Pclass) grouped by family size.\n",
        "family_size=titanic_df['SibSp']+titanic_df['Parch']+1\n",
        "titanic_df['FamilySize']=family_size\n",
        "survival_rate_for_each_pclass_family_size=titanic_df.groupby(['Pclass','FamilySize'])['Survived'].mean()*100\n",
        "print(survival_rate_for_each_pclass_family_size)"
      ],
      "metadata": {
        "colab": {
          "base_uri": "https://localhost:8080/"
        },
        "id": "qgWujlAt_urU",
        "outputId": "662663a9-8231-4bb7-80f0-667f93729f52"
      },
      "execution_count": 18,
      "outputs": [
        {
          "output_type": "stream",
          "name": "stdout",
          "text": [
            "Pclass  FamilySize\n",
            "1       1              53.211009\n",
            "        2              72.857143\n",
            "        3              75.000000\n",
            "        4              71.428571\n",
            "        5             100.000000\n",
            "        6              50.000000\n",
            "2       1              34.615385\n",
            "        2              52.941176\n",
            "        3              67.741935\n",
            "        4              76.923077\n",
            "        5             100.000000\n",
            "        6             100.000000\n",
            "3       1              21.296296\n",
            "        2              35.087719\n",
            "        3              42.553191\n",
            "        4              66.666667\n",
            "        5               0.000000\n",
            "        6               0.000000\n",
            "        7              33.333333\n",
            "        8               0.000000\n",
            "        11              0.000000\n",
            "Name: Survived, dtype: float64\n"
          ]
        }
      ]
    },
    {
      "cell_type": "code",
      "source": [
        "# Activity 4: Visualizing Survival Rate by Age and Passenger Class\n",
        "# Create a visualization (e.g., a heatmap) showing the survival rate for different age groups (as in Activity 2) and passenger classes.\n",
        "import pandas as pd\n",
        "import matplotlib.pyplot as plt\n",
        "import seaborn as sns\n",
        "survival_heatmap=titanic_df.pivot_table(index='Pclass' , columns='Age_Group', values='Survived' , aggfunc='mean')\n",
        "plt.figure(figsize=(8,6))\n",
        "sns.heatmap(survival_heatmap, annot=True , cmap='viridis' , fmt='.2f')\n",
        "plt.title('survival rate by age and passenger class')\n",
        "plt.xlable='age_group'\n",
        "plt.ylable='Pclass'\n",
        "plt.show()"
      ],
      "metadata": {
        "colab": {
          "base_uri": "https://localhost:8080/",
          "height": 619
        },
        "id": "b33ZwnUz_3nu",
        "outputId": "7d374fbe-fe08-48ed-ea74-a19d9e77aa98"
      },
      "execution_count": 20,
      "outputs": [
        {
          "output_type": "stream",
          "name": "stderr",
          "text": [
            "<ipython-input-20-0e9d121ee78c>:6: FutureWarning: The default value of observed=False is deprecated and will change to observed=True in a future version of pandas. Specify observed=False to silence this warning and retain the current behavior\n",
            "  survival_heatmap=titanic_df.pivot_table(index='Pclass' , columns='Age_Group', values='Survived' , aggfunc='mean')\n"
          ]
        },
        {
          "output_type": "display_data",
          "data": {
            "text/plain": [
              "<Figure size 800x600 with 2 Axes>"
            ],
            "image/png": "[encoded data removed]"
          },
          "metadata": {}
        }
      ]
    },
    {
      "cell_type": "code",
      "source": [
        "# Activity 5: Advanced Pivot Table Analysis: Survival Rate, Fare, and Age\n",
        "# Construct a pivot table that simultaneously presents:\n",
        "#   - The average survival rate\n",
        "#   - The median fare\n",
        "#   - The average age\n",
        "# Grouped by 'Pclass' and 'Sex'.\n",
        "# Handle potential missing values in the pivot table.\n",
        "\n",
        "import pandas as pd\n",
        "\n",
        "# Create the pivot table\n",
        "advanced_pivot_table = pd.pivot_table(\n",
        "    titanic_df,\n",
        "    values=['Survived', 'Fare', 'Age'],  # Values to analyze\n",
        "    index=['Pclass', 'Sex'],  # Grouping columns\n",
        "    aggfunc={'Survived': 'mean', 'Fare': 'median', 'Age': 'mean'},  # Aggregation functions\n",
        "    fill_value=titanic_df.mean(numeric_only=True)  # Fill missing values with column means\n",
        ")\n",
        "\n",
        "# Display the pivot table\n",
        "print(advanced_pivot_table)"
      ],
      "metadata": {
        "colab": {
          "base_uri": "https://localhost:8080/"
        },
        "id": "hUcIitT1AAt1",
        "outputId": "2fe93f31-20a5-43f1-fca3-b98147bf1109"
      },
      "execution_count": 21,
      "outputs": [
        {
          "output_type": "stream",
          "name": "stdout",
          "text": [
            "                     Age      Fare  Survived\n",
            "Pclass Sex                                  \n",
            "1      female  34.611765  82.66455  0.968085\n",
            "       male    41.281386  41.26250  0.368852\n",
            "2      female  28.722973  22.00000  0.921053\n",
            "       male    30.740707  13.00000  0.157407\n",
            "3      female  21.750000  12.47500  0.500000\n",
            "       male    26.507589   7.92500  0.135447\n"
          ]
        }
      ]
    },
    {
      "cell_type": "code",
      "source": [
        "file_path = \"/content/Titanic-Dataset.csv\"\n",
        "titanic_df = pd.read_csv(file_path)"
      ],
      "metadata": {
        "id": "CJyEPXPeAGZJ"
      },
      "execution_count": 22,
      "outputs": []
    },
    {
      "cell_type": "code",
      "source": [
        "titanic_df.to_csv(\"Mohib_StudentAdmission_data.csv\", index=False)"
      ],
      "metadata": {
        "id": "0XVrv4VYALgl"
      },
      "execution_count": 23,
      "outputs": []
    },
    {
      "cell_type": "code",
      "source": [],
      "metadata": {
        "id": "13sdF2PrAQwg"
      },
      "execution_count": null,
      "outputs": []
    }
  ]
}